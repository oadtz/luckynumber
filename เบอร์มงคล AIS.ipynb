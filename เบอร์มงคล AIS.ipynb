{
 "cells": [
  {
   "cell_type": "code",
   "execution_count": 51,
   "metadata": {},
   "outputs": [],
   "source": [
    "import numpy as np\n",
    "import pandas as pd\n",
    "import requests\n",
    "import time\n",
    "from bs4 import BeautifulSoup"
   ]
  },
  {
   "cell_type": "code",
   "execution_count": 52,
   "metadata": {},
   "outputs": [],
   "source": [
    "def getPhoneNoGrade(phone_no):\n",
    "    url = \"https://www.berlnw.com/%E0%B8%97%E0%B8%B3%E0%B8%99%E0%B8%B2%E0%B8%A2%E0%B9%80%E0%B8%9A%E0%B8%AD%E0%B8%A3%E0%B9%8C\"\n",
    "    client = requests.session()\n",
    "    r = client.get(url)\n",
    "    soup = BeautifulSoup(r.content, \"html.parser\")\n",
    "    csrf = soup.find(\"input\", attrs={\"name\": \"_csrf\"}).attrs[\"value\"]\n",
    "\n",
    "    r = client.post(url, data={\"p_horo\": phone_no, \"_csrf\": csrf})  \n",
    "\n",
    "    soup = BeautifulSoup(r.content, \"html.parser\")\n",
    "    div = soup.find(\"div\", attrs={\"id\": \"blog\"})\n",
    "    grade = div \\\n",
    "    .findChild(\"h5\") \\\n",
    "    .findPrevious(\"h3\") \\\n",
    "    .findChild(\"h1\") \\\n",
    "    .getText()\n",
    "    \n",
    "    rate = div \\\n",
    "    .findChild(\"h5\") \\\n",
    "    .getText().replace('\\n', ' ')\n",
    "    \n",
    "    return (grade, rate)"
   ]
  },
  {
   "cell_type": "code",
   "execution_count": 66,
   "metadata": {},
   "outputs": [],
   "source": [
    "def getPhoneNoSum(phone_no):\n",
    "    i = 0\n",
    "    for x in phone_no:\n",
    "        i += int(x)\n",
    "    \n",
    "    return i"
   ]
  },
  {
   "cell_type": "code",
   "execution_count": 53,
   "metadata": {},
   "outputs": [
    {
     "data": {
      "text/plain": [
       "0    0982594343\n",
       "1    0982597007\n",
       "2    0924938822\n",
       "3    0922759292\n",
       "4    0982593443\n",
       "Name: mobileNo, dtype: object"
      ]
     },
     "execution_count": 53,
     "metadata": {},
     "output_type": "execute_result"
    }
   ],
   "source": [
    "with open('./phones.json', 'r') as myfile:\n",
    "    json = myfile.read().replace('\\n', '')\n",
    "    json = json.replace('},\"resultCode\":\"20000\",\"resultDesc\":\"Success\",\"developerMessage\":\"Success\"}', '')\n",
    "    json = json.replace('{\"data\":{\"mobileList\":', '')\n",
    "\n",
    "df = pd.read_json(json)\n",
    "df['mobileNo'] = '0' + df['mobileNo'].astype(str)\n",
    "df['mobileNo'].head()"
   ]
  },
  {
   "cell_type": "code",
   "execution_count": 54,
   "metadata": {},
   "outputs": [
    {
     "name": "stdout",
     "output_type": "stream",
     "text": [
      "Done\n"
     ]
    }
   ],
   "source": [
    "for pn in df['mobileNo']:\n",
    "    grade, rate = getPhoneNoGrade(pn)\n",
    "    \n",
    "    if grade == \"A+\" or grade == \"A++\":\n",
    "        print(\"{0} is {1} ({2})\".format(pn, grade, rate))\n",
    "print (\"Done\")"
   ]
  },
  {
   "cell_type": "code",
   "execution_count": null,
   "metadata": {},
   "outputs": [
    {
     "name": "stdout",
     "output_type": "stream",
     "text": [
      "0932415999 is A (คะแนนที่ได้ 757 /1000)\n",
      "0932419599 is A (คะแนนที่ได้ 751 /1000)\n",
      "0932419959 is A (คะแนนที่ได้ 757 /1000)\n",
      "0932419995 is A (คะแนนที่ได้ 763 /1000)\n",
      "0932445999 is A (คะแนนที่ได้ 752 /1000)\n",
      "0932455599 is A (คะแนนที่ได้ 751 /1000)\n",
      "0932455959 is A (คะแนนที่ได้ 751 /1000)\n",
      "0932455989 is A (คะแนนที่ได้ 751 /1000)\n",
      "0932455995 is A (คะแนนที่ได้ 757 /1000)\n",
      "0932455998 is A (คะแนนที่ได้ 757 /1000)\n",
      "0932455999 is A (คะแนนที่ได้ 757 /1000)\n",
      "0932459199 is A (คะแนนที่ได้ 751 /1000)\n",
      "0932459559 is A (คะแนนที่ได้ 751 /1000)\n",
      "0932459595 is A (คะแนนที่ได้ 751 /1000)\n",
      "0932459598 is A (คะแนนที่ได้ 751 /1000)\n",
      "0932459599 is A (คะแนนที่ได้ 751 /1000)\n",
      "0932459878 is A (คะแนนที่ได้ 751 /1000)\n",
      "0932459895 is A (คะแนนที่ได้ 751 /1000)\n",
      "0932459919 is A (คะแนนที่ได้ 757 /1000)\n",
      "0932459955 is A (คะแนนที่ได้ 757 /1000)\n",
      "0932459959 is A (คะแนนที่ได้ 757 /1000)\n",
      "0932459991 is A (คะแนนที่ได้ 763 /1000)\n",
      "0932459995 is A (คะแนนที่ได้ 763 /1000)\n"
     ]
    }
   ],
   "source": [
    "for i in range(931111111, 989999999):\n",
    "    i = '0' + str(i)\n",
    "    \n",
    "    if '6' not in i and getPhoneNoSum(i) in [51, 54, 55] and ('95' in i or '59' in i or '94' in i or '49' in i):\n",
    "        grade, rate = getPhoneNoGrade(i)\n",
    "        if grade == \"A+\" or grade == \"A\":\n",
    "            print(\"{0} is {1} ({2})\".format(i, grade, rate))\n",
    "    \n",
    "print('done')"
   ]
  },
  {
   "cell_type": "code",
   "execution_count": null,
   "metadata": {},
   "outputs": [],
   "source": []
  }
 ],
 "metadata": {
  "kernelspec": {
   "display_name": "Python 3",
   "language": "python",
   "name": "python3"
  },
  "language_info": {
   "codemirror_mode": {
    "name": "ipython",
    "version": 3
   },
   "file_extension": ".py",
   "mimetype": "text/x-python",
   "name": "python",
   "nbconvert_exporter": "python",
   "pygments_lexer": "ipython3",
   "version": "3.6.5"
  }
 },
 "nbformat": 4,
 "nbformat_minor": 2
}
