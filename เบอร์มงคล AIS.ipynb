{
 "cells": [
  {
   "cell_type": "code",
   "execution_count": 68,
   "metadata": {},
   "outputs": [],
   "source": [
    "import numpy as np\n",
    "import pandas as pd\n",
    "import requests\n",
    "from bs4 import BeautifulSoup"
   ]
  },
  {
   "cell_type": "code",
   "execution_count": 526,
   "metadata": {},
   "outputs": [],
   "source": [
    "def getPhoneNoGrade(phone_no):\n",
    "    url = \"https://www.berlnw.com/%E0%B8%97%E0%B8%B3%E0%B8%99%E0%B8%B2%E0%B8%A2%E0%B9%80%E0%B8%9A%E0%B8%AD%E0%B8%A3%E0%B9%8C\"\n",
    "    client = requests.session()\n",
    "    r = client.get(url)\n",
    "    soup = BeautifulSoup(r.content, \"html.parser\")\n",
    "    csrf = soup.find(\"input\", attrs={\"name\": \"_csrf\"}).attrs[\"value\"]\n",
    "\n",
    "    r = client.post(url, data={\"p_horo\": phone_no, \"_csrf\": csrf})  \n",
    "\n",
    "    soup = BeautifulSoup(r.content, \"html.parser\")\n",
    "    div = soup.find(\"div\", attrs={\"id\": \"blog\"})\n",
    "    grade = div \\\n",
    "    .findChild(\"h5\") \\\n",
    "    .findPrevious(\"h3\") \\\n",
    "    .findChild(\"h1\") \\\n",
    "    .getText()\n",
    "    \n",
    "    rate = div \\\n",
    "    .findChild(\"h5\") \\\n",
    "    .getText().replace('\\n', ' ')\n",
    "    \n",
    "    return (grade, rate)"
   ]
  },
  {
   "cell_type": "code",
   "execution_count": 592,
   "metadata": {},
   "outputs": [
    {
     "data": {
      "text/plain": [
       "0    0982493231\n",
       "1    0983704910\n",
       "2    0924985040\n",
       "3    0925353491\n",
       "4    0931282349\n",
       "Name: mobileNo, dtype: object"
      ]
     },
     "execution_count": 592,
     "metadata": {},
     "output_type": "execute_result"
    }
   ],
   "source": [
    "with open('./phones.json', 'r') as myfile:\n",
    "    json = myfile.read().replace('\\n', '')\n",
    "    json = json.replace('},\"resultCode\":\"20000\",\"resultDesc\":\"Success\",\"developerMessage\":\"Success\"}', '')\n",
    "    json = json.replace('{\"data\":{\"mobileList\":', '')\n",
    "\n",
    "df = pd.read_json(json)\n",
    "df['mobileNo'] = '0' + df['mobileNo'].astype(str)\n",
    "df['mobileNo'].head()"
   ]
  },
  {
   "cell_type": "code",
   "execution_count": 593,
   "metadata": {},
   "outputs": [
    {
     "name": "stdout",
     "output_type": "stream",
     "text": [
      "Done\n"
     ]
    }
   ],
   "source": [
    "for pn in df['mobileNo']:\n",
    "    grade, rate = getPhoneNoGrade(pn)\n",
    "    \n",
    "    if grade == \"A+\":\n",
    "        print(\"{0} is {1} ({2})\".format(pn, grade, rate))\n",
    "print (\"Done\")"
   ]
  },
  {
   "cell_type": "code",
   "execution_count": null,
   "metadata": {},
   "outputs": [],
   "source": []
  }
 ],
 "metadata": {
  "kernelspec": {
   "display_name": "Python 3",
   "language": "python",
   "name": "python3"
  },
  "language_info": {
   "codemirror_mode": {
    "name": "ipython",
    "version": 3
   },
   "file_extension": ".py",
   "mimetype": "text/x-python",
   "name": "python",
   "nbconvert_exporter": "python",
   "pygments_lexer": "ipython3",
   "version": "3.6.5"
  }
 },
 "nbformat": 4,
 "nbformat_minor": 2
}
