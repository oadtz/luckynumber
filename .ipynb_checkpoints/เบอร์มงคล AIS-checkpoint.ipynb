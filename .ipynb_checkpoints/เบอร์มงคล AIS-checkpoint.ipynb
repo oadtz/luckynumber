{
 "cells": [
  {
   "cell_type": "code",
   "execution_count": 611,
   "metadata": {},
   "outputs": [],
   "source": [
    "import numpy as np\n",
    "import pandas as pd\n",
    "import requests\n",
    "import re\n",
    "import time\n",
    "from bs4 import BeautifulSoup"
   ]
  },
  {
   "cell_type": "code",
   "execution_count": 617,
   "metadata": {},
   "outputs": [
    {
     "name": "stdout",
     "output_type": "stream",
     "text": [
      "('A+', 'คะแนนที่ได้ 992 /1000', 48)\n"
     ]
    }
   ],
   "source": [
    "def getPhoneNoGrade(phone_no):\n",
    "    url = \"https://www.berlnw.com/%E0%B8%97%E0%B8%B3%E0%B8%99%E0%B8%B2%E0%B8%A2%E0%B9%80%E0%B8%9A%E0%B8%AD%E0%B8%A3%E0%B9%8C\"\n",
    "    client = requests.session()\n",
    "    r = client.get(url)\n",
    "    soup = BeautifulSoup(r.content, \"html.parser\")\n",
    "    csrf = soup.find(\"input\", attrs={\"name\": \"_csrf\"}).attrs[\"value\"]\n",
    "\n",
    "    r = client.post(url, data={\"p_horo\": phone_no, \"_csrf\": csrf})  \n",
    "\n",
    "    soup = BeautifulSoup(r.content, \"html.parser\")\n",
    "    div = soup.find(\"div\", attrs={\"id\": \"blog\"})\n",
    "    \n",
    "    rate = div \\\n",
    "    .findChild(\"h5\") \\\n",
    "    .getText().replace('\\n', ' ')\n",
    "    \n",
    "    url = \"https://berthongsuk.in.th/%E0%B8%A7%E0%B8%B4%E0%B9%80%E0%B8%84%E0%B8%A3%E0%B8%B2%E0%B8%B0%E0%B8%AB%E0%B9%8C%E0%B9%80%E0%B8%9A%E0%B8%AD%E0%B8%A3%E0%B9%8C%E0%B8%A1%E0%B8%87%E0%B8%84%E0%B8%A5/?num={0}\".format(phone_no)\n",
    "    client = requests.session()\n",
    "    r = client.get(url)\n",
    "    soup = BeautifulSoup(r.content, \"html.parser\")\n",
    "    score = 0\n",
    "    score += int(soup.find('img', attrs={'src': 'https://berthongsuk.in.th/img/new_ico/know.png'}) \\\n",
    "    .findNext('span') \\\n",
    "    .getText().replace('/10', ''))\n",
    "    score += int(soup.find('img', attrs={'src': 'https://berthongsuk.in.th/img/new_ico/job.png'}) \\\n",
    "    .findNext('span') \\\n",
    "    .getText().replace('/10', ''))\n",
    "    score += int(soup.find('img', attrs={'src': 'https://berthongsuk.in.th/img/new_ico/money.png'}) \\\n",
    "    .findNext('span') \\\n",
    "    .getText().replace('/10', ''))\n",
    "    score += int(soup.find('img', attrs={'src': 'https://berthongsuk.in.th/img/new_ico/love.png'}) \\\n",
    "    .findNext('span') \\\n",
    "    .getText().replace('/10', ''))\n",
    "    score += int(soup.find('img', attrs={'src': 'https://berthongsuk.in.th/img/new_ico/luck.png'}) \\\n",
    "    .findNext('span') \\\n",
    "    .getText().replace('/10', ''))\n",
    "    score += int(soup.find('img', attrs={'src': 'https://berthongsuk.in.th/img/new_ico/heal.png'}) \\\n",
    "    .findNext('span') \\\n",
    "    .getText().replace('/10', ''))\n",
    "    \n",
    "    \n",
    "    grade = soup \\\n",
    "    .findChild(\"div\", attrs={'class': 'entry-summary'}) \\\n",
    "    .findChild(\"center\", recursive = False) \\\n",
    "    .findNext(\"center\") \\\n",
    "    .getText()\n",
    "    \n",
    "    return (grade, rate, score)\n",
    "\n",
    "print(getPhoneNoGrade('0989152456'))"
   ]
  },
  {
   "cell_type": "code",
   "execution_count": 613,
   "metadata": {},
   "outputs": [],
   "source": [
    "def getPhoneNoSum(phone_no):\n",
    "    i = 0\n",
    "    for x in phone_no:\n",
    "        i += int(x)\n",
    "    \n",
    "    return i"
   ]
  },
  {
   "cell_type": "code",
   "execution_count": 614,
   "metadata": {},
   "outputs": [
    {
     "data": {
      "text/plain": [
       "0    0982493231\n",
       "1    0983704910\n",
       "2    0924985040\n",
       "3    0925353491\n",
       "4    0931282349\n",
       "Name: mobileNo, dtype: object"
      ]
     },
     "execution_count": 614,
     "metadata": {},
     "output_type": "execute_result"
    }
   ],
   "source": [
    "with open('./phones.json', 'r') as myfile:\n",
    "    json = myfile.read().replace('\\n', '')\n",
    "    json = json.replace('},\"resultCode\":\"20000\",\"resultDesc\":\"Success\",\"developerMessage\":\"Success\"}', '')\n",
    "    json = json.replace('{\"data\":{\"mobileList\":', '')\n",
    "\n",
    "df = pd.read_json(json)\n",
    "df['mobileNo'] = '0' + df['mobileNo'].astype(str)\n",
    "df['mobileNo'].head()"
   ]
  },
  {
   "cell_type": "code",
   "execution_count": 616,
   "metadata": {},
   "outputs": [
    {
     "name": "stdout",
     "output_type": "stream",
     "text": [
      "0924494450 is A+ (0)\n",
      "Done\n"
     ]
    }
   ],
   "source": [
    "for pn in df['mobileNo']:\n",
    "    grade, rate, score = getPhoneNoGrade(pn)\n",
    "    \n",
    "    if grade == \"A+\" or grade == \"A++\":\n",
    "        print(\"{0} is {1} ({2})\".format(pn, grade, score))\n",
    "print (\"Done\")"
   ]
  },
  {
   "cell_type": "code",
   "execution_count": 610,
   "metadata": {},
   "outputs": [
    {
     "ename": "NameError",
     "evalue": "name 'getPhoneNoSum' is not defined",
     "output_type": "error",
     "traceback": [
      "\u001b[0;31m---------------------------------------------------------------------------\u001b[0m",
      "\u001b[0;31mNameError\u001b[0m                                 Traceback (most recent call last)",
      "\u001b[0;32m<ipython-input-610-d6cbacd1ecc1>\u001b[0m in \u001b[0;36m<module>\u001b[0;34m()\u001b[0m\n\u001b[1;32m      2\u001b[0m     \u001b[0mi\u001b[0m \u001b[0;34m=\u001b[0m \u001b[0;34m'0'\u001b[0m \u001b[0;34m+\u001b[0m \u001b[0mstr\u001b[0m\u001b[0;34m(\u001b[0m\u001b[0mi\u001b[0m\u001b[0;34m)\u001b[0m\u001b[0;34m\u001b[0m\u001b[0m\n\u001b[1;32m      3\u001b[0m \u001b[0;34m\u001b[0m\u001b[0m\n\u001b[0;32m----> 4\u001b[0;31m     \u001b[0;32mif\u001b[0m \u001b[0;34m'6'\u001b[0m \u001b[0;32mnot\u001b[0m \u001b[0;32min\u001b[0m \u001b[0mi\u001b[0m \u001b[0;32mand\u001b[0m \u001b[0mgetPhoneNoSum\u001b[0m\u001b[0;34m(\u001b[0m\u001b[0mi\u001b[0m\u001b[0;34m)\u001b[0m \u001b[0;32min\u001b[0m \u001b[0;34m[\u001b[0m\u001b[0;36m51\u001b[0m\u001b[0;34m,\u001b[0m \u001b[0;36m54\u001b[0m\u001b[0;34m,\u001b[0m \u001b[0;36m55\u001b[0m\u001b[0;34m]\u001b[0m \u001b[0;32mand\u001b[0m \u001b[0;34m(\u001b[0m\u001b[0;34m'95'\u001b[0m \u001b[0;32min\u001b[0m \u001b[0mi\u001b[0m \u001b[0;32mor\u001b[0m \u001b[0;34m'59'\u001b[0m \u001b[0;32min\u001b[0m \u001b[0mi\u001b[0m \u001b[0;32mor\u001b[0m \u001b[0;34m'94'\u001b[0m \u001b[0;32min\u001b[0m \u001b[0mi\u001b[0m \u001b[0;32mor\u001b[0m \u001b[0;34m'49'\u001b[0m \u001b[0;32min\u001b[0m \u001b[0mi\u001b[0m\u001b[0;34m)\u001b[0m\u001b[0;34m:\u001b[0m\u001b[0;34m\u001b[0m\u001b[0m\n\u001b[0m\u001b[1;32m      5\u001b[0m         \u001b[0mgrade\u001b[0m\u001b[0;34m,\u001b[0m \u001b[0mrate\u001b[0m \u001b[0;34m=\u001b[0m \u001b[0mgetPhoneNoGrade\u001b[0m\u001b[0;34m(\u001b[0m\u001b[0mi\u001b[0m\u001b[0;34m)\u001b[0m\u001b[0;34m\u001b[0m\u001b[0m\n\u001b[1;32m      6\u001b[0m         \u001b[0;32mif\u001b[0m \u001b[0mgrade\u001b[0m \u001b[0;34m==\u001b[0m \u001b[0;34m\"A+\"\u001b[0m \u001b[0;32mand\u001b[0m \u001b[0mscore\u001b[0m \u001b[0;34m>=\u001b[0m \u001b[0;36m40\u001b[0m\u001b[0;34m:\u001b[0m\u001b[0;34m\u001b[0m\u001b[0m\n",
      "\u001b[0;31mNameError\u001b[0m: name 'getPhoneNoSum' is not defined"
     ]
    }
   ],
   "source": [
    "for i in range(931111111, 949999999):\n",
    "    i = '0' + str(i)\n",
    "    \n",
    "    if '6' not in i and getPhoneNoSum(i) in [47, 51, 54, 55] and ('95' in i or '59' in i or '94' in i or '49' in i):\n",
    "        grade, rate = getPhoneNoGrade(i)\n",
    "        if grade == \"A+\" and score >= 48:\n",
    "            print(\"{0} is {1} ({2})\".format(i, grade, rate))\n",
    "    \n",
    "print('done')"
   ]
  },
  {
   "cell_type": "code",
   "execution_count": null,
   "metadata": {},
   "outputs": [],
   "source": []
  }
 ],
 "metadata": {
  "kernelspec": {
   "display_name": "Python 3",
   "language": "python",
   "name": "python3"
  },
  "language_info": {
   "codemirror_mode": {
    "name": "ipython",
    "version": 3
   },
   "file_extension": ".py",
   "mimetype": "text/x-python",
   "name": "python",
   "nbconvert_exporter": "python",
   "pygments_lexer": "ipython3",
   "version": "3.6.5"
  }
 },
 "nbformat": 4,
 "nbformat_minor": 2
}
